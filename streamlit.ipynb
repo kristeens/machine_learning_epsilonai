{
 "cells": [
  {
   "cell_type": "code",
   "execution_count": 71,
   "metadata": {},
   "outputs": [
    {
     "name": "stdout",
     "output_type": "stream",
     "text": [
      "Overwriting store_1.py\n"
     ]
    }
   ],
   "source": [
    "%%writefile store_1.py\n",
    "import streamlit as st\n",
    "\n",
    "# Custom CSS for styling\n",
    "st.markdown(\"\"\"\n",
    "    <style>\n",
    "        .title {\n",
    "            font-size: 45px !important;\n",
    "            font-weight: bold;\n",
    "            color: #ff914d;\n",
    "            text-align: center;\n",
    "        }\n",
    "        .subtitle {\n",
    "            font-size: 20px;\n",
    "            color: #444;\n",
    "            text-align: center;\n",
    "        }\n",
    "        .stButton > button {\n",
    "            width: 60%;\n",
    "            background-color: #ff914d;\n",
    "            color: white;\n",
    "            font-size: 20px;\n",
    "            font-weight: bold;\n",
    "            border-radius: 10px;\n",
    "            padding: 10px;\n",
    "            margin: auto;\n",
    "            display: block;\n",
    "        }\n",
    "        .stButton > button:hover {\n",
    "            background-color: #e87c3d;\n",
    "        }\n",
    "        .stImage {\n",
    "            display: flex;\n",
    "            justify-content: center;\n",
    "        }\n",
    "    </style>\n",
    "\"\"\", unsafe_allow_html=True)\n",
    "\n",
    "# Display title and subtitle\n",
    "st.markdown('<p class=\"title\">✨ Welcome to Our Orphans Charity ✨</p>', unsafe_allow_html=True)\n",
    "st.markdown('<p class=\"subtitle\">Providing hope, love, and a better future for orphans ❤️</p>', unsafe_allow_html=True)\n",
    "\n",
    "# Display animated GIF instead of static image\n",
    "st.image(\"charity_animation.gif\", use_container_width=True)\n",
    "\n",
    "\n"
   ]
  },
  {
   "cell_type": "code",
   "execution_count": 72,
   "metadata": {},
   "outputs": [
    {
     "name": "stdout",
     "output_type": "stream",
     "text": [
      "Overwriting store_2.py\n"
     ]
    }
   ],
   "source": [
    "%%writefile store_2.py\n",
    "import streamlit as st\n",
    "import pandas as pd\n",
    "df = pd.read_csv(r\"census.csv\")\n",
    "st.header(\"Understand Data\",divider=\"green\")\n",
    "\n",
    "tab_1,tab_2 = st.tabs([\"About Census\",\"Columns Definition\"])\n",
    "\n",
    "with tab_1:\n",
    "    st.markdown(\"<center><p><b>The US Adult Census dataset is a repository of 45,221 entries extracted from the 1994 US Census database</b></p></center>\",unsafe_allow_html=True)\n",
    "    df = pd.read_csv(r\"census.csv\")\n",
    "    st.dataframe(df.head())\n",
    "    \n",
    "with tab_2:\n",
    "    st.markdown(\"<p><b>The Census Income dataset has 45,221 entries.Each entry contains the following information about an individual:</b><br><p><b>● Age</b>​ :The age of an individual Integer greater than 0.</p><br><p><b>● Workclass</b>​ : A general term to represent the employment status of an individual.</p><br><p><b>● Education​ :</b> The highest level of education achieved by an individual.</p><p><b>● Education ­Num​ :</b> The highest level of education achieved in numerical form.</p><p><b>● Marital ­Status​ :</b> Marital Status of an individual. <b>Married ­civ ­spouse</b> corresponds to acivilian spouse while <b>Married ­AF ­spouse</b> is a spouse in the Armed Forces.</p><br><p><b>●Occupation​ :</b> The general type of occupation of an individual.</p><br><p><b>●Relationship​ :</b> Represents what this individual is relative to others. For example an individual could be a Husband. Each entry only has one relationship attribute and is somewhat redundant with marital status.</p><br><p><b>●Race​ :</b> Descriptions of an individual’s race</p><br><p><b>●Sex​ :</b> The biological sex of the individual</p><br><p><b>●Capital­ Gain​ :</b> Capital Gains for an individual <br><p><b>● Capital ­Loss​ :</b> Capital Loss for an individual.</p><br><p><b>● Hours­Per­Week​ :</b> The hours an individual has reported to work per week.</p><br><p><b>● Native ­Country​ :</b> country of origin for an individual.</p><br><p><b>● Income​ :</b> Whether or not an individual makes more othan $50,000 annually.</p>\"\n",
    ",unsafe_allow_html=True)\n"
   ]
  },
  {
   "cell_type": "code",
   "execution_count": 70,
   "metadata": {},
   "outputs": [
    {
     "name": "stdout",
     "output_type": "stream",
     "text": [
      "Overwriting store_6.py\n"
     ]
    }
   ],
   "source": [
    "%%writefile store_6.py\n",
    "import streamlit as st\n",
    "import joblib\n",
    "import numpy as np\n",
    "import pandas as pd\n",
    "from sklearn.base import TransformerMixin, BaseEstimator\n",
    "\n",
    "# OutlierHandler Function\n",
    "\n",
    "class OutlierHandler(BaseEstimator, TransformerMixin):\n",
    "    def fit(self, X, y=None):\n",
    "        return self \n",
    "\n",
    "    def transform(self, X, y=None):\n",
    "        X = pd.DataFrame(X).copy()  \n",
    "        for col in X.columns:\n",
    "            q1 = np.percentile(X[col], 25)\n",
    "            q3 = np.percentile(X[col], 75)\n",
    "            iqr = q3 - q1\n",
    "            ub = q3 + 1.5 * iqr\n",
    "            lb = q1 - 1.5 * iqr\n",
    "            X[col] = np.clip(X[col], lb, ub) \n",
    "        return X\n",
    "    def get_feature_names_out(self, input_features=None):\n",
    "        return input_features if input_features is not None else []\n",
    "    \n",
    "# CustomTransformer Function\n",
    "    \n",
    "class CustomTransformer(BaseEstimator, TransformerMixin):\n",
    "    def __init__(self, log_columns=None):\n",
    "        self.log_columns = log_columns if log_columns else []\n",
    "\n",
    "    def fit(self, X, y=None):\n",
    "        return self  \n",
    "\n",
    "    def transform(self, X, y=None):\n",
    "        X = pd.DataFrame(X).copy()  \n",
    "        for col in self.log_columns:\n",
    "            X[col] = np.log1p(X[col]) \n",
    "        return X\n",
    "    def get_feature_names_out(self, input_features=None):\n",
    "        return input_features if input_features is not None else []\n",
    "    \n",
    "# Load the preprocessor\n",
    "pipeline = joblib.load(\"preprocessor.pkl\")\n",
    "feature_names = np.load(\"feature_names.npy\", allow_pickle=True)\n",
    "\n",
    "# Load the trained model\n",
    "model = joblib.load('best_model.pkl') \n",
    "\n",
    "# Page Design\n",
    "\n",
    "st.set_page_config(page_title=\"Income Prediction\", page_icon=\"💰\", layout=\"wide\")\n",
    "\n",
    "# Title\n",
    "\n",
    "st.markdown(\"<h1 style='text-align: center; color: #FF4B4B;'>Income Prediction </h1>\", unsafe_allow_html=True)\n",
    "st.markdown(\"<h4 style='text-align: center; color: #4B7BFF;'>Predict your volunteers category based on your personal details</h4>\", unsafe_allow_html=True)\n",
    "\n",
    "st.divider()\n",
    "\n",
    "# Inputs Design\n",
    "\n",
    "col1, col2, col3 = st.columns(3)\n",
    "\n",
    "with col1:\n",
    "    sex = st.radio(\"👤 **Sex**\", ['Male', \"Female\"])  \n",
    "    age = st.slider(\"🎂 **Age**\", min_value=17, max_value=90)\n",
    "    education_num = st.select_slider(\"🎓 **Education Level**\", options=[str(i) for i in range(3, 17)])\n",
    "    marital_status = st.selectbox(\"💍 **Marital Status**\", [' Never-married', ' Married-civ-spouse' ,' Divorced',\n",
    " ' Married-spouse-absent', ' Separated' ,' Married-AF-spouse', ' Widowed'])\n",
    "    workclass = st.selectbox(\"🏢 **Workclass**\", [' State-gov' ,' Self-emp-not-inc', ' Private', ' Federal-gov', ' Local-gov',\n",
    " ' Self-emp-inc' ,' Without-pay'])\n",
    "\n",
    "with col2:\n",
    "    occupation = st.selectbox(\"🛠 **Occupation**\", [' Adm-clerical' ,' Exec-managerial', ' Handlers-cleaners', ' Prof-specialty'\n",
    " ' Other-service', ' Sales', ' Transport-moving' ,' Farming-fishing',' Machine-op-inspct', ' Tech-support' ,' Craft-repair' ,' Protective-serv',\n",
    " ' Armed-Forces', ' Priv-house-serv'])\n",
    "    Work_Life_Balance = st.selectbox(\"⚖️ **Work-Life Balance**\", ['Good Balance', 'High Balance', 'Low Balance', 'Moderate Balance'])\n",
    "    capital_gain = st.number_input(\"📈 **Capital Gain**\", min_value=1, max_value=99999, step=100)\n",
    "    capital_loss = st.number_input(\"📉 **Capital Loss**\", min_value=1, max_value=4356, step=10)\n",
    "    Income_per_Hour = st.number_input(\"💰 **Income Per Hour**\", min_value=1, max_value=11365, step=5)\n",
    "\n",
    "with col3:\n",
    "    race = st.selectbox(\"🌎 **Race**\", [' White', ' Black', ' Asian-Pac-Islander', ' Amer-Indian-Eskimo',' Other']) \n",
    "    native_country = st.selectbox(\"🏳️ **Native Country**\", [' United-States', ' Cuba', ' Jamaica', ' India', ' Mexico',' Puerto-Rico', \n",
    "        ' Honduras', ' England', ' Canada', ' Germany',' Iran', ' Philippines', ' Poland', ' Columbia', ' Cambodia',' Thailand', \n",
    "        ' Ecuador', ' Laos', ' Taiwan', ' Haiti', ' Portugal',' Dominican-Republic', ' El-Salvador', ' France', ' Guatemala',\n",
    "       ' Italy', ' China', ' South', ' Japan', ' Yugoslavia', ' Peru',' Outlying-US(Guam-USVI-etc)', ' Scotland', ' Trinadad&Tobago',\n",
    "       ' Greece', ' Nicaragua', ' Vietnam', ' Hong', ' Ireland',' Hungary', ' Holand-Netherlands'])\n",
    "    relationship = st.selectbox(\"👨‍👩‍👧‍👦 **Relationship**\", [' Not-in-family', ' Husband', ' Wife', ' Own-child', ' Unmarried',\n",
    "       ' Other-relative'])\n",
    "    Age_Ranges = st.selectbox(\"📅 **Age Range**\", ['Young Middle-Age', 'Adult', 'Young Adulthood', 'Child', 'Seniors'])\n",
    "\n",
    "\n",
    "input_features = {\n",
    "    \"age\": age,\n",
    "    'workclass': workclass,\n",
    "    'education-num':education_num,\n",
    "    \"marital-status\": marital_status,\n",
    "    \"occupation\": occupation,\n",
    "    'relationship': relationship,\n",
    "    'race':race,\n",
    "    \"sex\": sex,\n",
    "    \"capital-gain\": capital_gain,\n",
    "    \"capital-loss\": capital_loss,\n",
    "    'native-country': native_country,\n",
    "    'Age Ranges': Age_Ranges,\n",
    "    'Work_Life_Balance': Work_Life_Balance,\n",
    "    \"Income_per_Hour\": Income_per_Hour\n",
    "}  \n",
    "# Prepare data for predection\n",
    " \n",
    "input_df = pd.DataFrame([input_features])\n",
    "input_data_transformed = pipeline.transform(input_df)\n",
    "input_df_transformed = pd.DataFrame(input_data_transformed, columns=feature_names)\n",
    "\n",
    "categorical_columns = [\n",
    "    \"workclass\", \"education-num\", \"marital-status\", \"occupation\", \n",
    "    \"relationship\", \"race\", \"sex\", \"native-country\", \"Age Ranges\", \n",
    "    \"Work_Life_Balance\"\n",
    "]\n",
    "\n",
    "if not input_df_transformed.empty:\n",
    "    for col in input_df_transformed.select_dtypes(include=['category']).columns:\n",
    "        input_df_transformed[col] = input_df_transformed[col].cat.codes  \n",
    "\n",
    "for col in input_df_transformed.select_dtypes(include=['object']).columns:\n",
    "    try:\n",
    "        input_df_transformed[col] = input_df_transformed[col].astype(float) \n",
    "    except ValueError:\n",
    "        print(f\"Column '{col}' contains non-numeric values and will be removed!\")  \n",
    "        input_df_transformed.drop(columns=[col], inplace=True)  \n",
    "\n",
    "non_numeric_cols = input_df_transformed.select_dtypes(exclude=['int64', 'float64']).columns\n",
    "\n",
    "if len(non_numeric_cols) > 0:\n",
    "    print(f\"Warning: The following columns are still non-numeric and will be removed: {non_numeric_cols.tolist()}\")\n",
    "    input_df_transformed.drop(columns=non_numeric_cols, inplace=True)\n",
    "print(\"DataFrame after processing:\", input_df_transformed.dtypes)\n",
    "\n",
    "# Prediction\n",
    "\n",
    "if st.button(\"Predict Income\"):\n",
    "    prediction = model.predict(input_df_transformed)\n",
    "    result = \"≤50K\" if prediction == 0 else \">50K\"\n",
    "    st.success(f\"Predicted Income Category: **{result}**\")\n"
   ]
  },
  {
   "cell_type": "code",
   "execution_count": 79,
   "metadata": {},
   "outputs": [
    {
     "name": "stdout",
     "output_type": "stream",
     "text": [
      "Overwriting store_3.py\n"
     ]
    }
   ],
   "source": [
    "%%writefile store_3.py\n",
    "import streamlit as st\n",
    "import numpy as np\n",
    "import pandas as pd\n",
    "import plotly.express as px\n",
    "\n",
    "df = pd.read_csv(r\"new_census.csv\")\n",
    "# Title\n",
    "st.header(\"Interactive Visualizations\",divider=\"green\")\n",
    "\n",
    "# Sidebar for user input\n",
    "with st.sidebar:\n",
    "    st.subheader(\"🔧 Choose Your Plot\")\n",
    "    cat_cols = list(df.select_dtypes(include='O').columns)\n",
    "    num_cols = list(df.select_dtypes(include='number').columns)\n",
    "\n",
    "    num_choice = st.radio(\"🔢 Select a Numerical Column\", options=num_cols)\n",
    "    cat_choice = st.selectbox(\"🔤 Select a Categorical Column\", options=cat_cols)\n",
    "\n",
    "    graph_choice = st.selectbox(\"📈 Choose a Graph Type\", options=['Boxplot', 'Violinplot', 'Stripplot', 'Histogram', 'Pie Chart'])\n",
    "\n",
    "# Graph Selection\n",
    "choice_to_graph = {\n",
    "    'Boxplot': px.box, \n",
    "    'Violinplot': px.violin, \n",
    "    'Stripplot': px.strip, \n",
    "    'Histogram': px.histogram, \n",
    "    'Pie Chart': px.pie\n",
    "}\n",
    "\n",
    "# Graph Button\n",
    "st.markdown(\"<br>\", unsafe_allow_html=True)  \n",
    "is_submit = st.button(\"🎨 Generate Graph\")\n",
    "\n",
    "# Graph output\n",
    "if is_submit:\n",
    "\n",
    "    if graph_choice == \"Pie Chart\":\n",
    "        fig = choice_to_graph[graph_choice](df, names=cat_choice)\n",
    "    else:\n",
    "        fig = choice_to_graph[graph_choice](df, x=cat_choice, y=num_choice)\n",
    "\n",
    "    st.plotly_chart(fig, use_container_width=True)"
   ]
  },
  {
   "cell_type": "code",
   "execution_count": 74,
   "metadata": {},
   "outputs": [
    {
     "name": "stdout",
     "output_type": "stream",
     "text": [
      "Overwriting store_4.py\n"
     ]
    }
   ],
   "source": [
    "%%writefile store_4.py\n",
    "import streamlit as st\n",
    "import numpy as np\n",
    "import pandas as pd\n",
    "import plotly.express as px\n",
    "#import seaborn as sns\n",
    "\n",
    "st.title(\"Welcome to Our Charity\")\n",
    "#st.header(\"ٍStore Visuals\",help= \"...vs...\",divider=True)\n",
    "st.header(\"Interactive Visualizations\",divider=\"green\")\n",
    "\n",
    "df = pd.read_csv(r\"census.csv\")\n",
    "df1=df.copy()\n",
    "df1.drop_duplicates(inplace=True)\n",
    "df1.reset_index(inplace=True,drop=True)\n",
    "\n",
    "#st.dataframe(df.head())\n",
    "\n",
    "#df = pd.read_csv(r\"E:\\epsilon_ai\\39\\products_details.csv\")\n",
    "tab_1,tab_2,tab_3,tab_4,tab_5 = st.tabs([\"Income Range Count\",\"Education_Level vs. Income\",\"Workclass vs. Income\",\"Occupation vs. Income\",\"Race vs. Income\"])\n",
    "\n",
    "with tab_1:\n",
    "    st.markdown(\"<center><p><b>As we can see in this graph most of people have income less than or equal 50K </b></p></center>\",unsafe_allow_html=True)\n",
    "    fig = px.histogram(df, x='income')\n",
    "    st.plotly_chart(fig)\n",
    "    \n",
    "with tab_2:\n",
    "    st.markdown(\"<p><b>As we can see in this graph the highest ability for charity is for a person of HS-grade and Bachelors degrees as the number of persons with income greater than 50K is 2712 and 2046</b></p>\",unsafe_allow_html=True)\n",
    "    fig1 = px.histogram(df1, y='education_level', color='income')\n",
    "    st.plotly_chart(fig1)\n",
    "    \n",
    "    #dff = df.groupby(\"Category\")[[\"Total Rates\"]].sum().reset_index().sort_values(by=\"Total Rates\",ascending= False)\n",
    "    #fig = px.pie(names = dff[\"Category\"],values= dff[\"Total Rates\"],title = \"Distribution of Total Rates across Category\")\n",
    "    #st.plotly_chart(fig)\n",
    "\n",
    "with tab_3:\n",
    "    st.markdown(\"<p><b>As we can see in this graph the highest ability for charity is for a person that have private work as the number of persons with income greater than 50K is 6156</b></p>\",unsafe_allow_html=True)\n",
    "    fig2 = px.histogram(df1, y='workclass', color='income')\n",
    "    st.plotly_chart(fig2)\n",
    "    #df_num = df.select_dtypes(include=np.number)\n",
    "    #fig1 =px.imshow(df_num.corr(),text_auto = True)\n",
    "    #st.plotly_chart(fig1)\n",
    "with tab_4:\n",
    "    st.markdown(\"<p><b>As we can see in this graph the highest ability for charity is for a Exec-managerial and Prof-specialty as the number of persons with income greater than 50K is 2489 and 2477 </b></p>\",unsafe_allow_html=True)\n",
    "    fig3 = px.histogram(df1, y='occupation', color='income')\n",
    "    st.plotly_chart(fig3)\n",
    "with tab_5:\n",
    "    st.markdown(\"<p><b>As we can see in this graph the highest ability for charity is for a White Race as the number of persons with income greater than 50K is 8980 </b></p>\",unsafe_allow_html=True)\n",
    "    fig4 = px.histogram(df1, y='race', color='income')\n",
    "    st.plotly_chart(fig4)\n"
   ]
  },
  {
   "cell_type": "code",
   "execution_count": 28,
   "metadata": {},
   "outputs": [],
   "source": [
    "import streamlit as st\n",
    "import numpy as np\n",
    "import pandas as pd\n",
    "import plotly.express as px\n",
    "import seaborn as sns\n",
    "import matplotlib as lib\n",
    "import matplotlib.pyplot as plt"
   ]
  },
  {
   "cell_type": "code",
   "execution_count": 19,
   "metadata": {},
   "outputs": [
    {
     "data": {
      "text/plain": [
       "'1.42.0'"
      ]
     },
     "execution_count": 19,
     "metadata": {},
     "output_type": "execute_result"
    }
   ],
   "source": [
    "st.__version__"
   ]
  },
  {
   "cell_type": "code",
   "execution_count": 24,
   "metadata": {},
   "outputs": [
    {
     "data": {
      "text/plain": [
       "'2.2.3'"
      ]
     },
     "execution_count": 24,
     "metadata": {},
     "output_type": "execute_result"
    }
   ],
   "source": [
    "pd.__version__"
   ]
  },
  {
   "cell_type": "code",
   "execution_count": 25,
   "metadata": {},
   "outputs": [
    {
     "data": {
      "text/plain": [
       "'2.1.1'"
      ]
     },
     "execution_count": 25,
     "metadata": {},
     "output_type": "execute_result"
    }
   ],
   "source": [
    "np.__version__"
   ]
  },
  {
   "cell_type": "code",
   "execution_count": 29,
   "metadata": {},
   "outputs": [
    {
     "data": {
      "text/plain": [
       "'3.9.2'"
      ]
     },
     "execution_count": 29,
     "metadata": {},
     "output_type": "execute_result"
    }
   ],
   "source": [
    "lib.__version__"
   ]
  },
  {
   "cell_type": "code",
   "execution_count": 30,
   "metadata": {},
   "outputs": [
    {
     "data": {
      "text/plain": [
       "'5.24.1'"
      ]
     },
     "execution_count": 30,
     "metadata": {},
     "output_type": "execute_result"
    }
   ],
   "source": [
    "import plotly\n",
    "plotly.__version__"
   ]
  },
  {
   "cell_type": "code",
   "execution_count": 31,
   "metadata": {},
   "outputs": [
    {
     "data": {
      "text/plain": [
       "'0.13.2'"
      ]
     },
     "execution_count": 31,
     "metadata": {},
     "output_type": "execute_result"
    }
   ],
   "source": [
    "sns.__version__"
   ]
  },
  {
   "cell_type": "code",
   "execution_count": 1,
   "metadata": {},
   "outputs": [
    {
     "data": {
      "text/plain": [
       "'1.4.2'"
      ]
     },
     "execution_count": 1,
     "metadata": {},
     "output_type": "execute_result"
    }
   ],
   "source": [
    "import joblib\n",
    "joblib.__version__"
   ]
  }
 ],
 "metadata": {
  "kernelspec": {
   "display_name": "Python 3",
   "language": "python",
   "name": "python3"
  },
  "language_info": {
   "codemirror_mode": {
    "name": "ipython",
    "version": 3
   },
   "file_extension": ".py",
   "mimetype": "text/x-python",
   "name": "python",
   "nbconvert_exporter": "python",
   "pygments_lexer": "ipython3",
   "version": "3.12.4"
  }
 },
 "nbformat": 4,
 "nbformat_minor": 2
}
